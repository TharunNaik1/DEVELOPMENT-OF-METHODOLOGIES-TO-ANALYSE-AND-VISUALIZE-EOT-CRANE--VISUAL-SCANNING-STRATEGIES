{
 "cells": [
  {
   "cell_type": "code",
   "execution_count": 1,
   "metadata": {},
   "outputs": [],
   "source": [
    "#imports\n",
    "import math\n",
    "import cv2\n",
    "import numpy as np\n",
    "import pandas as pd\n",
    "import matplotlib.pyplot as plt\n",
    "from operator import itemgetter"
   ]
  },
  {
   "cell_type": "code",
   "execution_count": 2,
   "metadata": {},
   "outputs": [],
   "source": [
    "df=pd.read_csv('data.csv')\n",
    "i=0\n",
    "st_ind=[]\n",
    "end_ind=[]\n",
    "while(i<39482):\n",
    "    if(df[\"Eye movement type\"][i]==\"Fixation\"):\n",
    "        st_ind.append(i)\n",
    "        while(df[\"Eye movement type\"][i]==\"Fixation\"):\n",
    "            i+=1\n",
    "        end_ind.append(i-1)\n",
    "    i+=1"
   ]
  },
  {
   "cell_type": "code",
   "execution_count": 3,
   "metadata": {},
   "outputs": [],
   "source": [
    "v=[]\n",
    "cnt=0\n",
    "for i,j in zip(st_ind,end_ind):\n",
    "    if(cnt>100):\n",
    "        break\n",
    "    cnt+=1\n",
    "    t1=df[\"time\"][i]\n",
    "    t2=df[\"time\"][j]\n",
    "    x=df[\"Fixation point X\"][i]\n",
    "    y=df[\"Fixation point Y\"][i]\n",
    "    v.append([x,y,t1,t2])\n",
    "v[0][2]=0\n",
    "Vk=[v]"
   ]
  },
  {
   "cell_type": "code",
   "execution_count": 4,
   "metadata": {},
   "outputs": [],
   "source": [
    "th_tv=[0, 500, 1000, 1500, 2000, 2500, 3000]\n",
    "th_sv=[0, 50,75, 100, 150, 200, 250]"
   ]
  },
  {
   "cell_type": "code",
   "execution_count": 5,
   "metadata": {},
   "outputs": [],
   "source": [
    "def mdist(a,b):\n",
    "    d=(a[0]-b[0]) **2 + (a[1]-b[1]) **2\n",
    "    d=math.sqrt(d)\n",
    "    return d\n",
    "def dist(a,b):\n",
    "    d=(a[0]-b[0]) **2 + (a[1]-b[1]) **2\n",
    "    return d\n",
    "def bfs(v,i,th_s,check):\n",
    "    #global check\n",
    "    if(check[i]==True):\n",
    "        return\n",
    "    global parent\n",
    "    global p\n",
    "    q=[[v[i][0],v[i][1]]]\n",
    "    parent.append([])\n",
    "    parent[p].append(i)\n",
    "    check[i]=True\n",
    "    while(len(q)!=0):\n",
    "        sz=len(q)\n",
    "        while(sz>0):\n",
    "            sz-=1\n",
    "            t=q.pop(0)\n",
    "            #print(t)\n",
    "            for x in range(len(v)):\n",
    "                if(check[x]==False):\n",
    "                    if(dist(t,[v[x][0],v[x][1]])<th_s*th_s):\n",
    "                        check[x]=True\n",
    "                        if(len(parent)>p):\n",
    "                            parent[p].append(x)\n",
    "                        else:\n",
    "                            parent.append([])\n",
    "                            parent[p].append(x)\n",
    "                        q.append([v[x][0],v[x][1]])\n",
    "    p +=1"
   ]
  },
  {
   "cell_type": "code",
   "execution_count": 6,
   "metadata": {},
   "outputs": [],
   "source": [
    "def dist2(a,b):\n",
    "    d1=min(abs(a[0]-b[1]),abs(a[1]-b[0]))\n",
    "    return d1\n",
    "def bfs2(v,arr,i,th_t,check2):\n",
    "    #check2=[False for i in len(arr)]\n",
    "    if(check2[i]==True):\n",
    "        return\n",
    "    q=[[v[arr[i]][2],v[arr[i]][3]]]\n",
    "    check2[i]=True\n",
    "    global cluster\n",
    "    global num\n",
    "    #cluster.append([])\n",
    "    #num+=1\n",
    "    if(len(cluster)>num):\n",
    "        cluster[num].append(arr[i])\n",
    "    else:\n",
    "        cluster.append([])\n",
    "        #print(num)\n",
    "        cluster[num].append(arr[i])\n",
    "    while(len(q)!=0):\n",
    "        sz=len(q)\n",
    "        while(sz>0):\n",
    "            sz-=1\n",
    "            t=q.pop(0)\n",
    "            for x in range(len(arr)):\n",
    "                if(check2[x]==False):\n",
    "                    #print(t)\n",
    "                    if(dist2(t,[v[arr[x]][2],v[arr[x]][3]])<th_t):\n",
    "                        check2[x]=True\n",
    "                        if(len(cluster)>num):\n",
    "                            cluster[num].append(arr[x])\n",
    "                        else:\n",
    "                            cluster.append([])\n",
    "                            #print(num)\n",
    "                            cluster[num].append(arr[x])\n",
    "                        q.append([v[arr[x]][2],v[arr[x]][3]])\n",
    "    num+=1"
   ]
  },
  {
   "cell_type": "code",
   "execution_count": 7,
   "metadata": {},
   "outputs": [],
   "source": [
    "def new(v,cluster):\n",
    "    new_v=np.zeros(shape=[len(cluster),4],dtype=float)\n",
    "    for i in range(len(cluster)):\n",
    "        sum1=0\n",
    "        sum2=0\n",
    "        sum3=v[cluster[i][0]][2]\n",
    "        sum4=v[cluster[i][0]][3]\n",
    "        w=len(cluster[i])\n",
    "        for j in range(w):\n",
    "            sum1+=v[cluster[i][j]][0]\n",
    "            sum2+=v[cluster[i][j]][1]\n",
    "            if(sum3>v[cluster[i][j]][2]):\n",
    "                sum3=v[cluster[i][j]][2]\n",
    "            if(sum4<v[cluster[i][j]][3]):\n",
    "                sum4=v[cluster[i][j]][3]\n",
    "        sum1/=w\n",
    "        sum2/=w\n",
    "        new_v[i][0]=sum1\n",
    "        new_v[i][1]=sum2\n",
    "        new_v[i][2]=sum3\n",
    "        new_v[i][3]=sum4\n",
    "    new_v=sorted(new_v,key=itemgetter(2))\n",
    "    return new_v\n",
    "    "
   ]
  },
  {
   "cell_type": "code",
   "execution_count": 8,
   "metadata": {},
   "outputs": [],
   "source": [
    "def dtw_f(v,new_v):\n",
    "    dtw=np.zeros(shape=[len(v),len(new_v)],dtype=float)\n",
    "    for i in range(len(v)):\n",
    "        for j in range(len(new_v)):\n",
    "            if(i!=0 and j!=0):\n",
    "                x=min(dtw[i][j-1],dtw[i-1][j-1],dtw[i-1][j])\n",
    "                dtw[i][j]=x+mdist([v[i][0],v[i][1]],[new_v[j][0],new_v[j][1]])\n",
    "            else:\n",
    "                dtw[i][j]=mdist([v[i][0],v[i][1]],[new_v[j][0],new_v[j][1]])\n",
    "    i=len(v)-1\n",
    "    j=len(new_v)-1\n",
    "    sum=0\n",
    "    #print(dtw)\n",
    "    while(i!=0 and j!=0):\n",
    "        sum+=dtw[i][j]\n",
    "        x=dtw[i-1][j-1]\n",
    "        y=dtw[i][j-1]\n",
    "        z=dtw[i-1][j]\n",
    "        if(x<=y and x<=z):\n",
    "            i=i-1\n",
    "            j=j-1\n",
    "        elif(y<=x and y<=z):\n",
    "            j=j-1\n",
    "        else:\n",
    "            i=i-1\n",
    "    if(i==0):\n",
    "        while(j>=0):\n",
    "            sum+=dtw[i][j]\n",
    "            j-=1\n",
    "    if(j==0):\n",
    "        while(i>=0):\n",
    "            sum+=dtw[i][j]\n",
    "            i-=1\n",
    "    return sum"
   ]
  },
  {
   "cell_type": "code",
   "execution_count": 29,
   "metadata": {},
   "outputs": [],
   "source": [
    "def timesh(best,c_best,image):\n",
    "    d=0\n",
    "    k=int(255/(len(best)-1))\n",
    "    for i in range(len(best)):\n",
    "        centre=(int(best[i][0]),int(best[i][1]))\n",
    "        radius=len(c_best[i])*4+10\n",
    "        if(radius<10):\n",
    "            radius=10\n",
    "        color=(0,255-d,255)\n",
    "        d+=k\n",
    "        font = cv2.FONT_HERSHEY_SIMPLEX\n",
    "        fontScale = 0.5\n",
    "        color2=(0,0,0)\n",
    "        if i!=0:\n",
    "            cv2.line(image,prev,centre,color,2)\n",
    "        cv2.circle(image,centre,radius,color,-1)\n",
    "        cv2.circle(image,centre,radius,color2,2)\n",
    "        cv2.putText(image, str(i+1), centre, font,fontScale,color2, 2, cv2.LINE_AA)\n",
    "        prev=centre\n",
    "    cv2.imshow(\"Time scheme\",image)\n",
    "    if cv2.waitKey(0) & 0xFF == ord('q'):\n",
    "        cv2.destroyAllWindows()"
   ]
  },
  {
   "cell_type": "code",
   "execution_count": 10,
   "metadata": {},
   "outputs": [],
   "source": [
    "def plotdtw(graphs_dtw):\n",
    "    for i,j in graphs_dtw.items():\n",
    "        plt.plot(th_tv, j,marker='o',markersize=12, label = str(i))\n",
    "    plt.xlabel('theata t ms')\n",
    "    plt.ylabel('y-axis')\n",
    "    plt.legend()\n",
    "    plt.show()\n",
    "def plotef(graphs_ef):\n",
    "    for i,j in graphs_ef.items():\n",
    "        plt.plot(th_tv, j,marker='o',markersize=12, label = str(i))\n",
    "    plt.xlabel('theata t ms')\n",
    "    plt.ylabel('y-axis')\n",
    "    plt.legend()\n",
    "    plt.show()"
   ]
  },
  {
   "cell_type": "code",
   "execution_count": 11,
   "metadata": {},
   "outputs": [],
   "source": [
    "graphs_dtw={}\n",
    "graphs_ef={}\n",
    "for i in th_sv:#th_sv\n",
    "    graphs_dtw[i]=[]\n",
    "    graphs_ef[i]=[]\n",
    "    for j in th_tv:#th_tv\n",
    "        sumdtw=0\n",
    "        sumef=0\n",
    "        for k in Vk:\n",
    "            parent=[]\n",
    "            raw=len(k)\n",
    "            check=np.array([False for x in range(raw)],dtype=bool)\n",
    "            p=0\n",
    "            for x in range(raw):\n",
    "                bfs(k,x,i,check)\n",
    "            num=0\n",
    "            cluster=[]\n",
    "            for y in range(len(parent)):\n",
    "                check2=np.array([False for i in range(len(parent[y]))],dtype=bool)\n",
    "                for z in range(len(parent[y])):\n",
    "                    bfs2(k,parent[y],z,j,check2)\n",
    "            new_v=new(k,cluster)\n",
    "            dtw=dtw_f(k,new_v)\n",
    "            dtw/=raw+len(new_v)\n",
    "            sumdtw+=dtw\n",
    "            sumef+=len(new_v)\n",
    "        sumdtw /=len(Vk)\n",
    "        sumef /=len(Vk)\n",
    "        #print(sumdtw)\n",
    "        graphs_dtw[i].append(sumdtw)\n",
    "        graphs_ef[i].append(sumef)"
   ]
  },
  {
   "cell_type": "code",
   "execution_count": 12,
   "metadata": {},
   "outputs": [
    {
     "data": {
      "image/png": "[encoded data removed]",
      "text/plain": [
       "<Figure size 432x288 with 1 Axes>"
      ]
     },
     "metadata": {
      "needs_background": "light"
     },
     "output_type": "display_data"
    }
   ],
   "source": [
    "plotdtw(graphs_dtw)"
   ]
  },
  {
   "cell_type": "code",
   "execution_count": 13,
   "metadata": {},
   "outputs": [
    {
     "data": {
      "image/png": "[encoded data removed]",
      "text/plain": [
       "<Figure size 432x288 with 1 Axes>"
      ]
     },
     "metadata": {
      "needs_background": "light"
     },
     "output_type": "display_data"
    }
   ],
   "source": [
    "plotef(graphs_ef)"
   ]
  },
  {
   "cell_type": "code",
   "execution_count": 27,
   "metadata": {},
   "outputs": [],
   "source": [
    "pqsz=len(cluster)\n",
    "pmin=2\n",
    "kj=0\n",
    "while(kj<pqsz):\n",
    "    if(len(cluster[kj])<pmin):\n",
    "        del cluster[kj]\n",
    "        kj-=1\n",
    "        pqsz-=1\n",
    "    kj+=1\n",
    "new_v=new(v,cluster)"
   ]
  },
  {
   "cell_type": "code",
   "execution_count": 31,
   "metadata": {},
   "outputs": [],
   "source": [
    "image = 255 * np.ones(shape=[1000, 2000, 3], dtype=np.uint8)\n",
    "best=[]\n",
    "for i in new_v:\n",
    "      best.append([(i[0])*1.3-400,(i[1])*1.3-350])\n",
    "c_best=cluster\n",
    "timesh(best,c_best,image)"
   ]
  },
  {
   "cell_type": "code",
   "execution_count": 26,
   "metadata": {},
   "outputs": [],
   "source": [
    "n=len(v)\n",
    "th_s=75\n",
    "check=[False for i in range(n)]\n",
    "parent=[]\n",
    "p=0\n",
    "for i in range(n):\n",
    "    bfs(v,i,th_s,check)\n",
    "num=0\n",
    "th_t=1500\n",
    "cluster=[]\n",
    "for i in range(len(parent)):\n",
    "    check2=[False for k in range(len(parent[i]))]\n",
    "    for j in range(len(parent[i])):\n",
    "        bfs2(v,parent[i],j,th_t,check2)"
   ]
  },
  {
   "cell_type": "code",
   "execution_count": 19,
   "metadata": {},
   "outputs": [],
   "source": []
  },
  {
   "cell_type": "code",
   "execution_count": null,
   "metadata": {},
   "outputs": [],
   "source": []
  },
  {
   "cell_type": "code",
   "execution_count": null,
   "metadata": {},
   "outputs": [],
   "source": []
  }
 ],
 "metadata": {
  "kernelspec": {
   "display_name": "Python 3 (ipykernel)",
   "language": "python",
   "name": "python3"
  },
  "language_info": {
   "codemirror_mode": {
    "name": "ipython",
    "version": 3
   },
   "file_extension": ".py",
   "mimetype": "text/x-python",
   "name": "python",
   "nbconvert_exporter": "python",
   "pygments_lexer": "ipython3",
   "version": "3.9.7"
  }
 },
 "nbformat": 4,
 "nbformat_minor": 4
}
